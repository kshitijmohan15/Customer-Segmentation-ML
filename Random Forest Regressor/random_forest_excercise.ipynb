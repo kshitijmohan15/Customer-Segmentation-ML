{
 "cells": [
  {
   "cell_type": "code",
   "execution_count": 1,
   "metadata": {},
   "outputs": [],
   "source": [
    "import pandas as pd\n",
    "import numpy as np\n",
    "from datetime import datetime, timedelta, date\n",
    "import matplotlib.pyplot as plt\n",
    "import seaborn as sns\n",
    "################################################\n",
    "from sklearn.tree import DecisionTreeRegressor\n",
    "%matplotlib inline\n",
    "################################################\n",
    "pd.set_option('display.max_columns', 500)"
   ]
  },
  {
   "cell_type": "code",
   "execution_count": 2,
   "metadata": {},
   "outputs": [],
   "source": [
    "df = pd.read_csv('https://raw.githubusercontent.com/PacktPublishing/Data-Science-for-Marketing-Analytics-Second-Edition/master/Chapter06/Activity6.03/spend_age_income_ed.csv')"
   ]
  },
  {
   "cell_type": "code",
   "execution_count": 3,
   "metadata": {},
   "outputs": [
    {
     "data": {
      "text/html": [
       "<div>\n",
       "<style scoped>\n",
       "    .dataframe tbody tr th:only-of-type {\n",
       "        vertical-align: middle;\n",
       "    }\n",
       "\n",
       "    .dataframe tbody tr th {\n",
       "        vertical-align: top;\n",
       "    }\n",
       "\n",
       "    .dataframe thead th {\n",
       "        text-align: right;\n",
       "    }\n",
       "</style>\n",
       "<table border=\"1\" class=\"dataframe\">\n",
       "  <thead>\n",
       "    <tr style=\"text-align: right;\">\n",
       "      <th></th>\n",
       "      <th>spend</th>\n",
       "      <th>age</th>\n",
       "      <th>income</th>\n",
       "      <th>years_of_education</th>\n",
       "    </tr>\n",
       "  </thead>\n",
       "  <tbody>\n",
       "    <tr>\n",
       "      <th>0</th>\n",
       "      <td>3304.0</td>\n",
       "      <td>36.0</td>\n",
       "      <td>45125.0</td>\n",
       "      <td>12</td>\n",
       "    </tr>\n",
       "    <tr>\n",
       "      <th>1</th>\n",
       "      <td>3709.0</td>\n",
       "      <td>43.0</td>\n",
       "      <td>41695.0</td>\n",
       "      <td>10</td>\n",
       "    </tr>\n",
       "    <tr>\n",
       "      <th>2</th>\n",
       "      <td>3305.0</td>\n",
       "      <td>47.0</td>\n",
       "      <td>39253.0</td>\n",
       "      <td>17</td>\n",
       "    </tr>\n",
       "    <tr>\n",
       "      <th>3</th>\n",
       "      <td>2170.0</td>\n",
       "      <td>33.0</td>\n",
       "      <td>32384.0</td>\n",
       "      <td>13</td>\n",
       "    </tr>\n",
       "    <tr>\n",
       "      <th>4</th>\n",
       "      <td>2113.0</td>\n",
       "      <td>30.0</td>\n",
       "      <td>33182.0</td>\n",
       "      <td>10</td>\n",
       "    </tr>\n",
       "  </tbody>\n",
       "</table>\n",
       "</div>"
      ],
      "text/plain": [
       "    spend   age   income  years_of_education\n",
       "0  3304.0  36.0  45125.0                  12\n",
       "1  3709.0  43.0  41695.0                  10\n",
       "2  3305.0  47.0  39253.0                  17\n",
       "3  2170.0  33.0  32384.0                  13\n",
       "4  2113.0  30.0  33182.0                  10"
      ]
     },
     "execution_count": 3,
     "metadata": {},
     "output_type": "execute_result"
    }
   ],
   "source": [
    "df.head()"
   ]
  },
  {
   "cell_type": "code",
   "execution_count": 5,
   "metadata": {},
   "outputs": [],
   "source": [
    "X = df[['age', 'income', 'years_of_education']]\n",
    "y = df[['spend']]"
   ]
  },
  {
   "cell_type": "code",
   "execution_count": 6,
   "metadata": {},
   "outputs": [],
   "source": [
    "from sklearn.model_selection import train_test_split\n",
    "\n",
    "X_train, X_test, y_train, y_test = train_test_split(X, y, random_state=10)"
   ]
  },
  {
   "cell_type": "code",
   "execution_count": 9,
   "metadata": {},
   "outputs": [
    {
     "name": "stdout",
     "output_type": "stream",
     "text": [
      "Shape of the X train dataset: (750, 3), y train dataset: (750, 1)\n",
      "Shape of the X test dataset: (250, 3), y test dataset: (250, 1)\n"
     ]
    }
   ],
   "source": [
    "print(f'Shape of the X train dataset: {X_train.shape}, y train dataset: {y_train.shape}')\n",
    "print(f'Shape of the X test dataset: {X_test.shape}, y test dataset: {y_test.shape}')"
   ]
  },
  {
   "cell_type": "code",
   "execution_count": 14,
   "metadata": {},
   "outputs": [
    {
     "name": "stderr",
     "output_type": "stream",
     "text": [
      "C:\\Users\\user3\\AppData\\Local\\Temp\\ipykernel_6728\\364656544.py:17: DataConversionWarning: A column-vector y was passed when a 1d array was expected. Please change the shape of y to (n_samples,), for example using ravel().\n",
      "  tree2_random_forest.fit(X_train, y_train)\n",
      "C:\\Users\\user3\\AppData\\Local\\Temp\\ipykernel_6728\\364656544.py:18: DataConversionWarning: A column-vector y was passed when a 1d array was expected. Please change the shape of y to (n_samples,), for example using ravel().\n",
      "  tree5_random_forest.fit(X_train, y_train)\n"
     ]
    },
    {
     "data": {
      "text/plain": [
       "RandomForestRegressor(max_depth=5)"
      ]
     },
     "execution_count": 14,
     "metadata": {},
     "output_type": "execute_result"
    }
   ],
   "source": [
    "from sklearn.linear_model import LinearRegression\n",
    "model = LinearRegression()\n",
    "model.fit(X_train, y_train)\n",
    "\n",
    "from sklearn.tree import DecisionTreeRegressor\n",
    "from sklearn.ensemble import RandomForestRegressor\n",
    "\n",
    "tree2_decision = DecisionTreeRegressor(max_depth=2)\n",
    "tree5_decision = DecisionTreeRegressor(max_depth=5)\n",
    "\n",
    "tree2_random_forest = RandomForestRegressor(max_depth=2)\n",
    "tree5_random_forest = RandomForestRegressor(max_depth=5)\n",
    "\n",
    "tree2_decision.fit(X_train, y_train)\n",
    "tree5_decision.fit(X_train, y_train)\n",
    "\n",
    "tree2_random_forest.fit(X_train, y_train)\n",
    "tree5_random_forest.fit(X_train, y_train)"
   ]
  },
  {
   "cell_type": "code",
   "execution_count": 16,
   "metadata": {},
   "outputs": [
    {
     "name": "stdout",
     "output_type": "stream",
     "text": [
      "Linear model RMSE: 348.19771532747865\n",
      "Decision Tree with max depth of 2 RMSE: 268.51069264082935\n",
      "Decision Tree with max depth of 5 RMSE: 125.53257106419696\n",
      "Random forest Tree with max depth of 2 RMSE: 266.29302100183236\n",
      "Random forest Tree with max depth of 5 RMSE: 115.1999398735176\n"
     ]
    }
   ],
   "source": [
    "from sklearn.metrics import mean_squared_error\n",
    "\n",
    "linear_predictions = model.predict(X_test)\n",
    "print('Linear model RMSE: ' + str(mean_squared_error(linear_predictions, y_test)**0.5))\n",
    "max2_tree_predictions = tree2_decision.predict(X_test)\n",
    "print('Decision Tree with max depth of 2 RMSE: ' + str(mean_squared_error(max2_tree_predictions, y_test)**0.5))\n",
    "\n",
    "max5_tree_predictions = tree5_decision.predict(X_test)\n",
    "print('Decision Tree with max depth of 5 RMSE: ' + str(mean_squared_error(max5_tree_predictions, y_test)**0.5))\n",
    "\n",
    "max2_forest_predictions = tree2_random_forest.predict(X_test)\n",
    "print('Random forest Tree with max depth of 2 RMSE: ' + str(mean_squared_error(max2_forest_predictions, y_test)**0.5))\n",
    "\n",
    "max5_forest_predictions = tree5_random_forest.predict(X_test)\n",
    "print('Random forest Tree with max depth of 5 RMSE: ' + str(mean_squared_error(max5_forest_predictions, y_test)**0.5))"
   ]
  }
 ],
 "metadata": {
  "interpreter": {
   "hash": "10b45ee549af95e004a2b50cdfa36bde85b16ebc2f3f44258a6c83a0490e56b5"
  },
  "kernelspec": {
   "display_name": "Python 3.10.3 64-bit",
   "language": "python",
   "name": "python3"
  },
  "language_info": {
   "codemirror_mode": {
    "name": "ipython",
    "version": 3
   },
   "file_extension": ".py",
   "mimetype": "text/x-python",
   "name": "python",
   "nbconvert_exporter": "python",
   "pygments_lexer": "ipython3",
   "version": "3.10.3"
  },
  "orig_nbformat": 4
 },
 "nbformat": 4,
 "nbformat_minor": 2
}
