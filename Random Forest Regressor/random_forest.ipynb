{
 "cells": [
  {
   "cell_type": "code",
   "execution_count": 2,
   "metadata": {},
   "outputs": [],
   "source": [
    "import pandas as pd\n",
    "from sklearn.ensemble import RandomForestRegressor"
   ]
  },
  {
   "cell_type": "code",
   "execution_count": 3,
   "metadata": {},
   "outputs": [],
   "source": [
    "forest_model = RandomForestRegressor(max_depth=2)"
   ]
  },
  {
   "cell_type": "markdown",
   "metadata": {},
   "source": [
    "When the\n",
    "relationships in data are linear (or close to it), linear models will tend to produce more\n",
    "accurate predictions, with the bonus of being easy to interpret. When relationships\n",
    "are more complex, tree-based methods may perform better. For example, the profit\n",
    "made by a firm and the profit made by each advertisement run by them is a linear\n",
    "relationship. If the profit made by each ad doubles, the overall profit of the firm will\n",
    "also double. However, the number of ads doesn't necessarily have to follow a linear\n",
    "relationship with the profit, as you can have 100 ads performing poorly, versus only\n",
    "one ad performing really well. This is a complex, or non-linear, relationship. Testing\n",
    "each and choosing the best model for the job requires evaluating the models based\n",
    "on their predictive accuracy with a metric such as the RMSE. The choice is ultimately\n",
    "dependent on the data you are working on. "
   ]
  },
  {
   "cell_type": "code",
   "execution_count": 4,
   "metadata": {},
   "outputs": [],
   "source": [
    "df = pd.read_csv('https://raw.githubusercontent.com/PacktPublishing/Data-Science-for-Marketing-Analytics-Second-Edition/master/Chapter06/Exercise6.03/age_spend.csv')"
   ]
  },
  {
   "cell_type": "code",
   "execution_count": 6,
   "metadata": {},
   "outputs": [
    {
     "data": {
      "text/html": [
       "<div>\n",
       "<style scoped>\n",
       "    .dataframe tbody tr th:only-of-type {\n",
       "        vertical-align: middle;\n",
       "    }\n",
       "\n",
       "    .dataframe tbody tr th {\n",
       "        vertical-align: top;\n",
       "    }\n",
       "\n",
       "    .dataframe thead th {\n",
       "        text-align: right;\n",
       "    }\n",
       "</style>\n",
       "<table border=\"1\" class=\"dataframe\">\n",
       "  <thead>\n",
       "    <tr style=\"text-align: right;\">\n",
       "      <th></th>\n",
       "      <th>spend</th>\n",
       "      <th>age</th>\n",
       "    </tr>\n",
       "  </thead>\n",
       "  <tbody>\n",
       "    <tr>\n",
       "      <th>0</th>\n",
       "      <td>2725.0</td>\n",
       "      <td>20.0</td>\n",
       "    </tr>\n",
       "    <tr>\n",
       "      <th>1</th>\n",
       "      <td>3010.0</td>\n",
       "      <td>38.0</td>\n",
       "    </tr>\n",
       "    <tr>\n",
       "      <th>2</th>\n",
       "      <td>2782.0</td>\n",
       "      <td>25.0</td>\n",
       "    </tr>\n",
       "    <tr>\n",
       "      <th>3</th>\n",
       "      <td>2809.0</td>\n",
       "      <td>31.0</td>\n",
       "    </tr>\n",
       "    <tr>\n",
       "      <th>4</th>\n",
       "      <td>2774.0</td>\n",
       "      <td>54.0</td>\n",
       "    </tr>\n",
       "  </tbody>\n",
       "</table>\n",
       "</div>"
      ],
      "text/plain": [
       "    spend   age\n",
       "0  2725.0  20.0\n",
       "1  3010.0  38.0\n",
       "2  2782.0  25.0\n",
       "3  2809.0  31.0\n",
       "4  2774.0  54.0"
      ]
     },
     "execution_count": 6,
     "metadata": {},
     "output_type": "execute_result"
    }
   ],
   "source": [
    "df.head()"
   ]
  },
  {
   "cell_type": "code",
   "execution_count": 7,
   "metadata": {},
   "outputs": [],
   "source": [
    "X = df[['age']]\n",
    "y = df[['spend']]"
   ]
  },
  {
   "cell_type": "code",
   "execution_count": 17,
   "metadata": {},
   "outputs": [],
   "source": [
    "from sklearn.model_selection import train_test_split\n",
    "from sklearn.linear_model import LinearRegression\n",
    "\n",
    "linear_model = LinearRegression()\n",
    "\n",
    "X_train, X_test, y_train, y_test = train_test_split(X, y, random_state = 10)"
   ]
  },
  {
   "cell_type": "code",
   "execution_count": 20,
   "metadata": {},
   "outputs": [
    {
     "data": {
      "text/plain": [
       "DecisionTreeClassifier(max_depth=5)"
      ]
     },
     "execution_count": 20,
     "metadata": {},
     "output_type": "execute_result"
    }
   ],
   "source": [
    "from sklearn.tree import DecisionTreeClassifier\n",
    "\n",
    "max2_model = DecisionTreeClassifier(max_depth=2)\n",
    "max5_model = DecisionTreeClassifier(max_depth=5)\n",
    "\n",
    "linear_model.fit(X_train, y_train)\n",
    "\n",
    "max2_model.fit(X_train, y_train)\n",
    "max5_model.fit(X_train, y_train)"
   ]
  },
  {
   "cell_type": "code",
   "execution_count": 21,
   "metadata": {},
   "outputs": [
    {
     "name": "stdout",
     "output_type": "stream",
     "text": [
      "Linear model RMSE: 159.07639273785358\n",
      "Tree with max depth of 2 RMSE: 134.16310968369808\n",
      "tree with max depth of 5 RMSE: 152.06457838694718\n"
     ]
    }
   ],
   "source": [
    "from sklearn.metrics import mean_squared_error\n",
    "\n",
    "linear_predictions = linear_model.predict(X_test)\n",
    "print('Linear model RMSE: ' + str(mean_squared_error(linear_predictions, y_test)**0.5))\n",
    "max2_tree_predictions = max2_model.predict(X_test)\n",
    "print('Tree with max depth of 2 RMSE: ' + str(mean_squared_error(max2_tree_predictions, y_test)**0.5))\n",
    "max5_tree_predictions = max5_model.predict(X_test)\n",
    "print('tree with max depth of 5 RMSE: ' + str(mean_squared_error(max5_tree_predictions, y_test)**0.5))"
   ]
  },
  {
   "cell_type": "markdown",
   "metadata": {},
   "source": [
    "Import matplotlib. Create a variable called ages to store a DataFrame with\n",
    "a single column containing ages from 18 to 70, so that we can have our models\n",
    "give us their predictions for all these ages:"
   ]
  },
  {
   "cell_type": "code",
   "execution_count": 22,
   "metadata": {},
   "outputs": [],
   "source": [
    "import matplotlib.pyplot as plt\n",
    "%matplotlib inline\n",
    "ages = pd.DataFrame({'age':range(18,70)})"
   ]
  },
  {
   "cell_type": "markdown",
   "metadata": {},
   "source": [
    "Create a scatter plot with the test data and, on top of it, plot the predictions from\n",
    "the linear regression model for the range of ages. Plot with color='k' and\n",
    "linewidth=5 to make it easier to see:\n"
   ]
  },
  {
   "cell_type": "code",
   "execution_count": 38,
   "metadata": {},
   "outputs": [
    {
     "data": {
      "image/png": "[encoded data removed]",
      "text/plain": [
       "<Figure size 432x288 with 1 Axes>"
      ]
     },
     "metadata": {
      "needs_background": "light"
     },
     "output_type": "display_data"
    }
   ],
   "source": [
    "\n",
    "plt.scatter(X_test['age'].to_numpy(), y_test.to_numpy(), color='gray')\n",
    "plt.plot(ages.to_numpy(),linear_model.predict(ages), color='k', linewidth=5, \\\n",
    "label=\"Linear Regression\")\n",
    "plt.xlabel(\"age\")\n",
    "plt.ylabel(\"spend\")\n",
    "plt.show()"
   ]
  },
  {
   "cell_type": "code",
   "execution_count": 40,
   "metadata": {},
   "outputs": [
    {
     "data": {
      "image/png": "[encoded data removed]",
      "text/plain": [
       "<Figure size 432x288 with 1 Axes>"
      ]
     },
     "metadata": {
      "needs_background": "light"
     },
     "output_type": "display_data"
    }
   ],
   "source": [
    "plt.scatter(X_test.age.to_numpy(), y_test.to_numpy(), color='gray')\n",
    "plt.plot(ages.to_numpy(),max2_model.predict(ages), \\\n",
    "         color='k',linewidth=5,label=\"Tree with max depth 2\")\n",
    "plt.xlabel(\"age\")\n",
    "plt.ylabel(\"spend\")\n",
    "plt.show()"
   ]
  },
  {
   "cell_type": "code",
   "execution_count": 41,
   "metadata": {},
   "outputs": [
    {
     "data": {
      "image/png": "[encoded data removed]",
      "text/plain": [
       "<Figure size 432x288 with 1 Axes>"
      ]
     },
     "metadata": {
      "needs_background": "light"
     },
     "output_type": "display_data"
    }
   ],
   "source": [
    "plt.scatter(X_test.age.to_numpy(), y_test.to_numpy(), color='gray')\n",
    "plt.plot(ages.to_numpy(),max5_model.predict(ages), \\\n",
    "         color='k',linewidth=5,label=\"Tree with max depth 2\")\n",
    "plt.xlabel(\"age\")\n",
    "plt.ylabel(\"spend\")\n",
    "plt.show()"
   ]
  },
  {
   "cell_type": "markdown",
   "metadata": {},
   "source": [
    "In this exercise, you saw that the tree-based models outperformed the linear\n",
    "regression model since the data was non-linear. Among the tree-based models, the\n",
    "random forest model had the lowest RMSE value. You also saw that by increasing\n",
    "the maximum depth from 2 to 5, the curve started fitting the training dataset more\n",
    "tightly. You will explore this part in detail in later chapters. You also saw that for\n",
    "people aged between 20 and 40, the total expenditure increased with age; however,\n",
    "for people aged over 50, the trend was completely the opposite"
   ]
  }
 ],
 "metadata": {
  "interpreter": {
   "hash": "10b45ee549af95e004a2b50cdfa36bde85b16ebc2f3f44258a6c83a0490e56b5"
  },
  "kernelspec": {
   "display_name": "Python 3.10.3 64-bit",
   "language": "python",
   "name": "python3"
  },
  "language_info": {
   "codemirror_mode": {
    "name": "ipython",
    "version": 3
   },
   "file_extension": ".py",
   "mimetype": "text/x-python",
   "name": "python",
   "nbconvert_exporter": "python",
   "pygments_lexer": "ipython3",
   "version": "3.10.3"
  },
  "orig_nbformat": 4
 },
 "nbformat": 4,
 "nbformat_minor": 2
}
