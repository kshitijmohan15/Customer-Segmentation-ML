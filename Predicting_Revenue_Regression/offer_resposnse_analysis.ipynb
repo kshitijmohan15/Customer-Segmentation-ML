{
 "cells": [
  {
   "cell_type": "code",
   "execution_count": 1,
   "metadata": {},
   "outputs": [],
   "source": [
    "import pandas as pd\n",
    "import numpy as np\n",
    "from datetime import datetime, timedelta, date\n",
    "import matplotlib.pyplot as plt\n",
    "import seaborn as sns\n",
    "pd.set_option('display.max_columns', 500)\n",
    "################################################\n",
    "%matplotlib inline\n",
    "################################################"
   ]
  },
  {
   "cell_type": "code",
   "execution_count": 3,
   "metadata": {},
   "outputs": [],
   "source": [
    "df = pd.read_csv('https://raw.githubusercontent.com/PacktPublishing/Data-Science-for-Marketing-Analytics-Second-Edition/master/Chapter06/Activity6.01/offer_responses.csv')"
   ]
  },
  {
   "cell_type": "code",
   "execution_count": 4,
   "metadata": {},
   "outputs": [
    {
     "data": {
      "text/html": [
       "<div>\n",
       "<style scoped>\n",
       "    .dataframe tbody tr th:only-of-type {\n",
       "        vertical-align: middle;\n",
       "    }\n",
       "\n",
       "    .dataframe tbody tr th {\n",
       "        vertical-align: top;\n",
       "    }\n",
       "\n",
       "    .dataframe thead th {\n",
       "        text-align: right;\n",
       "    }\n",
       "</style>\n",
       "<table border=\"1\" class=\"dataframe\">\n",
       "  <thead>\n",
       "    <tr style=\"text-align: right;\">\n",
       "      <th></th>\n",
       "      <th>responses</th>\n",
       "      <th>offer_discount</th>\n",
       "      <th>offer_quality</th>\n",
       "      <th>offer_reach</th>\n",
       "    </tr>\n",
       "  </thead>\n",
       "  <tbody>\n",
       "    <tr>\n",
       "      <th>0</th>\n",
       "      <td>4151.0</td>\n",
       "      <td>26.0</td>\n",
       "      <td>10.257680</td>\n",
       "      <td>31344.0</td>\n",
       "    </tr>\n",
       "    <tr>\n",
       "      <th>1</th>\n",
       "      <td>3397.0</td>\n",
       "      <td>35.0</td>\n",
       "      <td>15.194380</td>\n",
       "      <td>24016.0</td>\n",
       "    </tr>\n",
       "    <tr>\n",
       "      <th>2</th>\n",
       "      <td>3274.0</td>\n",
       "      <td>21.0</td>\n",
       "      <td>13.971468</td>\n",
       "      <td>28832.0</td>\n",
       "    </tr>\n",
       "    <tr>\n",
       "      <th>3</th>\n",
       "      <td>3426.0</td>\n",
       "      <td>27.0</td>\n",
       "      <td>6.054338</td>\n",
       "      <td>26747.0</td>\n",
       "    </tr>\n",
       "    <tr>\n",
       "      <th>4</th>\n",
       "      <td>5745.0</td>\n",
       "      <td>42.0</td>\n",
       "      <td>16.801365</td>\n",
       "      <td>46968.0</td>\n",
       "    </tr>\n",
       "  </tbody>\n",
       "</table>\n",
       "</div>"
      ],
      "text/plain": [
       "   responses  offer_discount  offer_quality  offer_reach\n",
       "0     4151.0            26.0      10.257680      31344.0\n",
       "1     3397.0            35.0      15.194380      24016.0\n",
       "2     3274.0            21.0      13.971468      28832.0\n",
       "3     3426.0            27.0       6.054338      26747.0\n",
       "4     5745.0            42.0      16.801365      46968.0"
      ]
     },
     "execution_count": 4,
     "metadata": {},
     "output_type": "execute_result"
    }
   ],
   "source": [
    "df.head()"
   ]
  },
  {
   "cell_type": "code",
   "execution_count": 5,
   "metadata": {},
   "outputs": [
    {
     "data": {
      "text/plain": [
       "Index(['responses', 'offer_discount', 'offer_quality', 'offer_reach'], dtype='object')"
      ]
     },
     "execution_count": 5,
     "metadata": {},
     "output_type": "execute_result"
    }
   ],
   "source": [
    "df.columns"
   ]
  },
  {
   "cell_type": "code",
   "execution_count": 31,
   "metadata": {},
   "outputs": [],
   "source": [
    "from sklearn.model_selection import train_test_split\n",
    "\n",
    "X = df[[ \n",
    "        'offer_discount',\n",
    "         'offer_quality', \n",
    "         'offer_reach'\n",
    "         ]]\n",
    "y = df['responses']\n",
    "X_train, X_test, y_train, y_test = train_test_split(X, y, random_state=10)"
   ]
  },
  {
   "cell_type": "code",
   "execution_count": 32,
   "metadata": {},
   "outputs": [],
   "source": [
    "from sklearn.linear_model import LinearRegression\n",
    "lr = LinearRegression()"
   ]
  },
  {
   "cell_type": "code",
   "execution_count": 33,
   "metadata": {},
   "outputs": [
    {
     "data": {
      "text/plain": [
       "LinearRegression()"
      ]
     },
     "execution_count": 33,
     "metadata": {},
     "output_type": "execute_result"
    }
   ],
   "source": [
    "lr.fit(X_train, y_train)"
   ]
  },
  {
   "cell_type": "code",
   "execution_count": 34,
   "metadata": {},
   "outputs": [
    {
     "name": "stdout",
     "output_type": "stream",
     "text": [
      "RMSE: 966.246182857791\n",
      "MAE: 789.4732837521725\n"
     ]
    }
   ],
   "source": [
    "predictions = lr.predict(X_test)\n",
    "from sklearn.metrics import mean_squared_error, mean_absolute_error\n",
    "print('RMSE: ' + str(mean_squared_error(predictions, y_test)**0.5))\n",
    "print('MAE: ' + str(mean_absolute_error(predictions, y_test)))"
   ]
  },
  {
   "cell_type": "code",
   "execution_count": null,
   "metadata": {},
   "outputs": [],
   "source": [
    "# check if removing any of the features affects the mean average error and teh root mean squared errors "
   ]
  },
  {
   "cell_type": "markdown",
   "metadata": {},
   "source": [
    "When one or more features have a low correlation (dependency between two\n",
    "columns) with the target column, this means that these columns are not going to\n",
    "provide any useful information to the model. However, if we still include them while\n",
    "training the model, the model will be forced to (incorrectly) learn that these columns\n",
    "have some effect on the target column. This can result in overfitting, in which\n",
    "the model will work very well for the training dataset; however, it will show poor\n",
    "performance on the test dataset. "
   ]
  }
 ],
 "metadata": {
  "interpreter": {
   "hash": "b9fdc7a4befb7ad1ff0606d75abc5088787f2c8772931e004545626bfd5e86ae"
  },
  "kernelspec": {
   "display_name": "Python 3.9.7 64-bit",
   "language": "python",
   "name": "python3"
  },
  "language_info": {
   "codemirror_mode": {
    "name": "ipython",
    "version": 3
   },
   "file_extension": ".py",
   "mimetype": "text/x-python",
   "name": "python",
   "nbconvert_exporter": "python",
   "pygments_lexer": "ipython3",
   "version": "3.9.7"
  },
  "orig_nbformat": 4
 },
 "nbformat": 4,
 "nbformat_minor": 2
}
