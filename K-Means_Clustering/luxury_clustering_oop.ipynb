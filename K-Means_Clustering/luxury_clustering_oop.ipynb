{
 "cells": [
  {
   "cell_type": "code",
   "execution_count": 9,
   "metadata": {},
   "outputs": [],
   "source": [
    "from scipy.spatial.distance import cdist\n",
    "from sklearn.preprocessing import StandardScaler\n",
    "from sklearn.decomposition import PCA\n",
    "from sklearn.cluster import KMeans\n",
    "import pandas as pd\n",
    "import numpy as np\n",
    "from datetime import datetime, timedelta, date\n",
    "import matplotlib.pyplot as plt\n",
    "import seaborn as sns\n",
    "pd.set_option('display.max_columns', 500)\n",
    "\n",
    "################################################\n",
    "%matplotlib inline\n",
    "################################################\n"
   ]
  },
  {
   "cell_type": "code",
   "execution_count": 10,
   "metadata": {},
   "outputs": [],
   "source": [
    "df = pd.read_csv('https://raw.githubusercontent.com/PacktPublishing/Data-Science-for-Marketing-Analytics-Second-Edition/master/Chapter04/Datasets/Clothing_Customers.csv')\n"
   ]
  },
  {
   "cell_type": "code",
   "execution_count": 11,
   "metadata": {},
   "outputs": [
    {
     "data": {
      "text/html": [
       "<div>\n",
       "<style scoped>\n",
       "    .dataframe tbody tr th:only-of-type {\n",
       "        vertical-align: middle;\n",
       "    }\n",
       "\n",
       "    .dataframe tbody tr th {\n",
       "        vertical-align: top;\n",
       "    }\n",
       "\n",
       "    .dataframe thead th {\n",
       "        text-align: right;\n",
       "    }\n",
       "</style>\n",
       "<table border=\"1\" class=\"dataframe\">\n",
       "  <thead>\n",
       "    <tr style=\"text-align: right;\">\n",
       "      <th></th>\n",
       "      <th>income</th>\n",
       "      <th>age</th>\n",
       "      <th>days_since_purchase</th>\n",
       "      <th>annual_spend</th>\n",
       "    </tr>\n",
       "  </thead>\n",
       "  <tbody>\n",
       "    <tr>\n",
       "      <th>0</th>\n",
       "      <td>37453</td>\n",
       "      <td>48</td>\n",
       "      <td>504</td>\n",
       "      <td>4441</td>\n",
       "    </tr>\n",
       "    <tr>\n",
       "      <th>1</th>\n",
       "      <td>50775</td>\n",
       "      <td>50</td>\n",
       "      <td>566</td>\n",
       "      <td>4239</td>\n",
       "    </tr>\n",
       "    <tr>\n",
       "      <th>2</th>\n",
       "      <td>71047</td>\n",
       "      <td>41</td>\n",
       "      <td>326</td>\n",
       "      <td>5834</td>\n",
       "    </tr>\n",
       "    <tr>\n",
       "      <th>3</th>\n",
       "      <td>52239</td>\n",
       "      <td>52</td>\n",
       "      <td>259</td>\n",
       "      <td>5456</td>\n",
       "    </tr>\n",
       "    <tr>\n",
       "      <th>4</th>\n",
       "      <td>112343</td>\n",
       "      <td>27</td>\n",
       "      <td>279</td>\n",
       "      <td>1749</td>\n",
       "    </tr>\n",
       "  </tbody>\n",
       "</table>\n",
       "</div>"
      ],
      "text/plain": [
       "   income  age  days_since_purchase  annual_spend\n",
       "0   37453   48                  504          4441\n",
       "1   50775   50                  566          4239\n",
       "2   71047   41                  326          5834\n",
       "3   52239   52                  259          5456\n",
       "4  112343   27                  279          1749"
      ]
     },
     "execution_count": 11,
     "metadata": {},
     "output_type": "execute_result"
    }
   ],
   "source": [
    "df.head()\n"
   ]
  },
  {
   "cell_type": "code",
   "execution_count": 12,
   "metadata": {},
   "outputs": [],
   "source": [
    "class Clustering:\n",
    "    \"\"\"Instantiates an object that takes a dataframe as an argument and gives the user the chance to scale any columns that they want and then reduce the dimensioanlity of these columns for clustering, or just perform both of these functions and create a clustering chart for it too by using the 'getClusterChart' function\"\"\"\n",
    "    def __init__(self, df, cols_to_scale, cols_to_reduce):\n",
    "        \"\"\"Initiating the properties of the object that will be instantiated using this class\n",
    "            we assign the original dataframe to self.df, the scaled version of this original df to\n",
    "            self.df_scaled, and the dataframe with the reduced dimensionality to the self.df_scaled_reduced\"\"\"\n",
    "        self.df = df\n",
    "        self.df_scaled = pd.DataFrame()\n",
    "        self.df_scaled_reduced = self.df_scaled.copy()\n",
    "        self.cols_to_scale = cols_to_scale\n",
    "        self.cols_to_reduce = cols_to_reduce\n",
    "\n",
    "    def scaleAndReduce(self):\n",
    "        \"\"\"Assign the df_scaled and df_scaled_reduced with the suitable values.\"\"\"\n",
    "        self.getScaledData()\n",
    "        self.getReducedDimensions(n_components=2)\n",
    "\n",
    "    def getScaledData(self):\n",
    "        \"\"\"Set df_scaled to the scaled datatframe\"\"\"\n",
    "        scaler = StandardScaler()\n",
    "        self.df_scaled[self.cols_to_scale] = scaler.fit_transform(\n",
    "            self.df[self.cols_to_scale])\n",
    "\n",
    "    def getReducedDimensions(self, n_components):\n",
    "        \"\"\"Set df_scaled_reduced to the suitable values, where there will be two columns, namely pc1 and pc2\"\"\"\n",
    "        pca = PCA(n_components=n_components)\n",
    "        pca_res = pca.fit_transform(self.df_scaled[self.cols_to_reduce])\n",
    "        for i in range(0, n_components):\n",
    "            self.df_scaled_reduced[f'pc{i+1}'] = pca_res[:, i]\n",
    "\n",
    "    def getClusterChart(self):\n",
    "        self.getScaledData()\n",
    "        self.getReducedDimensions(n_components=2)\n",
    "        cluster_cols = ['pc1', 'pc2']\n",
    "        markers = ['x', '*', '.', '|', '_', '1', '2']\n",
    "        plt.figure(figsize=[20, 12])\n",
    "        for n in range(2, 8):\n",
    "            model = KMeans(n_clusters=n, random_state=42)\n",
    "            self.df_scaled_reduced['Cluster'] = model.fit_predict(\n",
    "                self.df_scaled_reduced[cluster_cols])\n",
    "            plt.subplot(2, 3, n-1)\n",
    "            for clust in range(n):\n",
    "                temp = self.df_scaled_reduced[self.df_scaled_reduced.Cluster == clust]\n",
    "                plt.scatter(temp.pc1, temp.pc2,\n",
    "                            marker=markers[clust], label=\"Cluster \"+str(clust), color='gray')\n",
    "                plt.title(\"N clusters: \"+str(n))\n",
    "                plt.xlabel('pc1')\n",
    "        plt.ylabel('pc2')\n",
    "        plt.legend()\n",
    "        plt.show()\n",
    "        \n",
    "    def getElbowChart(self):\n",
    "        self.scaleAndReduce()\n",
    "        cluster_cols =['pc1', 'pc2']\n",
    "        X = self.df_scaled_reduced[cluster_cols]\n",
    "        inertia_scores = []\n",
    "        for K in range(2, 11):\n",
    "            inertia = KMeans(n_clusters=K, random_state=42).fit(X).inertia_\n",
    "            inertia_scores.append(inertia)\n",
    "        plt.figure(figsize=[7, 5])\n",
    "        plt.plot(range(2, 11), inertia_scores, color='gray')\n",
    "        plt.title(\"SSE/Inertia vs. number of clusters\")\n",
    "        plt.xlabel(\"Number of clusters: K\")\n",
    "        plt.ylabel('SSE/Inertia')\n",
    "        plt.show()"
   ]
  },
  {
   "cell_type": "code",
   "execution_count": 13,
   "metadata": {},
   "outputs": [],
   "source": [
    "clustering = Clustering(df, cols_to_scale=['income','age','days_since_purchase','annual_spend'], cols_to_reduce=['income','age','days_since_purchase','annual_spend'])"
   ]
  },
  {
   "cell_type": "code",
   "execution_count": 14,
   "metadata": {},
   "outputs": [
    {
     "data": {
      "image/png": "[encoded data removed]",
      "text/plain": [
       "<Figure size 504x360 with 1 Axes>"
      ]
     },
     "metadata": {
      "needs_background": "light"
     },
     "output_type": "display_data"
    }
   ],
   "source": [
    "clustering.getElbowChart()"
   ]
  }
 ],
 "metadata": {
  "interpreter": {
   "hash": "6efcd66f1305ec1c9d81218fa46d306a710274500761d6d9999173f93b9b1113"
  },
  "kernelspec": {
   "display_name": "Python 3.9.7 64-bit",
   "language": "python",
   "name": "python3"
  },
  "language_info": {
   "codemirror_mode": {
    "name": "ipython",
    "version": 3
   },
   "file_extension": ".py",
   "mimetype": "text/x-python",
   "name": "python",
   "nbconvert_exporter": "python",
   "pygments_lexer": "ipython3",
   "version": "3.9.7"
  },
  "orig_nbformat": 4
 },
 "nbformat": 4,
 "nbformat_minor": 2
}
